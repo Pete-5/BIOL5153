{
 "cells": [
  {
   "cell_type": "code",
   "execution_count": 1,
   "metadata": {
    "collapsed": true
   },
   "outputs": [],
   "source": [
    "### Chapter 3 In Chapter Exercises ###"
   ]
  },
  {
   "cell_type": "code",
   "execution_count": 3,
   "metadata": {},
   "outputs": [
    {
     "name": "stdout",
     "output_type": "stream",
     "text": [
      "abcdefg\n",
      "43\n"
     ]
    }
   ],
   "source": [
    "# Use \"open(\"file.name)\" to read a file #\n",
    "my_file = open(\"dna.txt\")\n",
    "my_string = 'abcdefg'\n",
    "print(my_string)\n",
    "my_number = 42\n",
    "print(my_number + 1)"
   ]
  },
  {
   "cell_type": "code",
   "execution_count": 6,
   "metadata": {},
   "outputs": [
    {
     "name": "stdout",
     "output_type": "stream",
     "text": [
      "ATTGCGTACCTAG\n",
      "\n",
      "<_io.TextIOWrapper name='dna.txt' mode='r' encoding='UTF-8'>\n"
     ]
    }
   ],
   "source": [
    "# Cool we've opened a file, now we need to store it's contents as a variable #\n",
    "my_file = open(\"dna.txt\")\n",
    "file_contents = my_file.read() #this stores the actual meat of the file as a variable\n",
    "print(file_contents)\n",
    "\n",
    "# better to store these names in a more ordely way such as....\n",
    "my_file_name = \"dna.txt\"\n",
    "my_file = open(my_file_name)\n",
    "print(my_file) # erroe messge means I printed a file object, not the file contents like above"
   ]
  },
  {
   "cell_type": "code",
   "execution_count": 8,
   "metadata": {},
   "outputs": [
    {
     "name": "stdout",
     "output_type": "stream",
     "text": [
      "sequence is ATTGCGTACCTAG\n",
      " and length is 14\n",
      "sequence is ATTGCGTACCTAG and length is 13\n"
     ]
    }
   ],
   "source": [
    "# Dealing with newlines #\n",
    "# open the file \n",
    "my_file = open(\"dna.txt\")\n",
    "# read the contents\n",
    "my_dna = my_file.read()\n",
    "# calculate length \n",
    "dna_length = len(my_dna)\n",
    "# print the output\n",
    "print(\"sequence is \" + my_dna + \" and length is \" + str(dna_length))\n",
    "\n",
    "## We see a split in this line due to Python putting in a new line at the end of dna.txt file, fixing it now\n",
    "my_file = open(\"dna.txt\")\n",
    "my_file_contents = my_file.read()\n",
    "# removing the newline from the end to fix the split from above\n",
    "my_dna = my_file_contents.rstrip(\"\\n\")\n",
    "dna_length = len(my_dna)\n",
    "# print the corrected output, should be one less number in it since we got rid of a line\n",
    "print(\"sequence is \" + my_dna + \" and length is \" + str(dna_length))\n",
    "\n",
    "### Can just get rid of the line in one line of code ###\n",
    "my_dna = my_file.read().rstrip(\"\\n\")"
   ]
  },
  {
   "cell_type": "code",
   "execution_count": 9,
   "metadata": {},
   "outputs": [
    {
     "ename": "FileNotFoundError",
     "evalue": "[Errno 2] No such file or directory: 'nonexistent.txt'",
     "output_type": "error",
     "traceback": [
      "\u001b[0;31m---------------------------------------------------------------------------\u001b[0m",
      "\u001b[0;31mFileNotFoundError\u001b[0m                         Traceback (most recent call last)",
      "\u001b[0;32m<ipython-input-9-6a442ca22017>\u001b[0m in \u001b[0;36m<module>\u001b[0;34m()\u001b[0m\n\u001b[1;32m      1\u001b[0m \u001b[0;31m# Missing files #\u001b[0m\u001b[0;34m\u001b[0m\u001b[0;34m\u001b[0m\u001b[0m\n\u001b[0;32m----> 2\u001b[0;31m \u001b[0mmy_file\u001b[0m \u001b[0;34m=\u001b[0m \u001b[0mopen\u001b[0m\u001b[0;34m(\u001b[0m\u001b[0;34m\"nonexistent.txt\"\u001b[0m\u001b[0;34m)\u001b[0m\u001b[0;34m\u001b[0m\u001b[0m\n\u001b[0m",
      "\u001b[0;31mFileNotFoundError\u001b[0m: [Errno 2] No such file or directory: 'nonexistent.txt'"
     ]
    }
   ],
   "source": [
    "# Missing files #\n",
    "my_file = open(\"nonexistent.txt\") # expect an error since I don't have this file uploaded "
   ]
  },
  {
   "cell_type": "code",
   "execution_count": 10,
   "metadata": {},
   "outputs": [
    {
     "data": {
      "text/plain": [
       "11"
      ]
     },
     "execution_count": 10,
     "metadata": {},
     "output_type": "execute_result"
    }
   ],
   "source": [
    "# Writing to Text files #\n",
    "my_file = open(\"out.txt\", \"w\")\n",
    "my_file.write(\"Hello world\")"
   ]
  },
  {
   "cell_type": "code",
   "execution_count": 12,
   "metadata": {},
   "outputs": [],
   "source": [
    "# Closing a file #\n",
    "my_file = open(\"out.txt\", \"w\")\n",
    "my_file.write(\"Hello world\")\n",
    "# close the file\n",
    "my_file.close() # need to reopen if I want to work on it again"
   ]
  },
  {
   "cell_type": "code",
   "execution_count": 13,
   "metadata": {
    "collapsed": true
   },
   "outputs": [],
   "source": [
    "# Paths and folders #\n",
    "# my_file = open(\"/home/peter/Desktop/myfile.txt\")\n",
    "## commented out because that is just an example file but you get the idea "
   ]
  },
  {
   "cell_type": "code",
   "execution_count": 16,
   "metadata": {
    "collapsed": true
   },
   "outputs": [],
   "source": [
    "### Chapter 3 End of Chapter Exercises ###"
   ]
  },
  {
   "cell_type": "code",
   "execution_count": null,
   "metadata": {
    "collapsed": true
   },
   "outputs": [],
   "source": [
    "# Splitting genomic DNA #\n",
    "\n",
    "# Reading the DNA sequence instead of writing it in the code \n",
    "## I don't have this file downloaded, this is shadow code\n",
    "dna_file = open(\"coding_dna.txt\")\n",
    "my_dna = dna_file.read()\n",
    "\n",
    "# extracting differnt bits of DNA sequence\n",
    "exon1 = my_dna[0:62]\n",
    "intron = my_dna[62:90]\n",
    "exon2 = my_dna[90:10000]\n",
    "\n",
    "# creating two new file objects\n",
    "coding_files = open(\"coding_dna.txt\", \"w\")\n",
    "noncoding_file = open(\"noncoding_dna.txt\", \"w\")\n",
    "\n",
    "# write the sequences to output files\n",
    "coding_file.write(exon1 + exon2)\n",
    "noncoding_file.write(intron)"
   ]
  },
  {
   "cell_type": "code",
   "execution_count": 17,
   "metadata": {},
   "outputs": [
    {
     "data": {
      "text/plain": [
       "31"
      ]
     },
     "execution_count": 17,
     "metadata": {},
     "output_type": "execute_result"
    }
   ],
   "source": [
    "# Writing a FASTA file #\n",
    "\n",
    "# get our header variables\n",
    "header_1 = \"ABC123\"\n",
    "header_2 = \"DEF456\"\n",
    "header_3 = \"HIJ789\"\n",
    "\n",
    "# get our sequence variables\n",
    "seq_1 = \"ATCGTACGATCGATCGCTAGACGTATCG\"\n",
    "seq_2 = \"actgatcgacgatgcatcgatcacgact\"\n",
    "seq_3 = \"ACTGAC-ACTGT-ACTGTA----CATGT\"\n",
    "\n",
    "# have to create a new file to hold these outputs\n",
    "output = open(\"sequence.fasta\", \"w\")\n",
    "\n",
    "# writing header & sequence for seq1\n",
    "output.write('>' + header_1 + '\\n' + seq_1 +'\\n')\n",
    "\n",
    "# writing header & sequence for seq2\n",
    "output.write('>' + header_2 + '\\n' + seq_2.upper() +'\\n')\n",
    "\n",
    "# writing header & sequence for seq3\n",
    "output.write('>' + header_3 + '\\n' + seq_3.replace('-', '') +'\\n')"
   ]
  },
  {
   "cell_type": "code",
   "execution_count": 18,
   "metadata": {},
   "outputs": [
    {
     "data": {
      "text/plain": [
       "31"
      ]
     },
     "execution_count": 18,
     "metadata": {},
     "output_type": "execute_result"
    }
   ],
   "source": [
    "# Writing multiple FASTA files #\n",
    "\n",
    "# get our header variables\n",
    "header_1 = \"ABC123\"\n",
    "header_2 = \"DEF456\"\n",
    "header_3 = \"HIJ789\"\n",
    "\n",
    "# get our sequence variables\n",
    "seq_1 = \"ATCGTACGATCGATCGCTAGACGTATCG\"\n",
    "seq_2 = \"actgatcgacgatgcatcgatcacgact\"\n",
    "seq_3 = \"ACTGAC-ACTGT-ACTGTA----CATGT\"\n",
    "\n",
    "# have to create a new file to hold these outputs\n",
    "# creating new output files, like above\n",
    "output_1 = open(header_1 + \".fasta\", \"w\")\n",
    "output_2 = open(header_2 + \".fasta\", \"w\")\n",
    "output_3 = open(header_3 + \".fasta\", \"w\")\n",
    "\n",
    "# writing header & sequence for seq1\n",
    "output_1.write('>' + header_1 + '\\n' + seq_1 +'\\n')\n",
    "output_2.write('>' + header_2 + '\\n' + seq_2.upper() +'\\n')\n",
    "output_3.write('>' + header_3 + '\\n' + seq_3.replace('-', '') +'\\n')"
   ]
  },
  {
   "cell_type": "code",
   "execution_count": null,
   "metadata": {
    "collapsed": true
   },
   "outputs": [],
   "source": []
  }
 ],
 "metadata": {
  "kernelspec": {
   "display_name": "Python 3",
   "language": "python",
   "name": "python3"
  },
  "language_info": {
   "codemirror_mode": {
    "name": "ipython",
    "version": 3
   },
   "file_extension": ".py",
   "mimetype": "text/x-python",
   "name": "python",
   "nbconvert_exporter": "python",
   "pygments_lexer": "ipython3",
   "version": "3.6.1"
  }
 },
 "nbformat": 4,
 "nbformat_minor": 2
}
