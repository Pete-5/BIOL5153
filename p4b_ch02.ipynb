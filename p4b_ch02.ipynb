{
 "cells": [
  {
   "cell_type": "code",
   "execution_count": 1,
   "metadata": {
    "collapsed": true
   },
   "outputs": [],
   "source": [
    "### Chapter 2 In CHpater Exercises ####"
   ]
  },
  {
   "cell_type": "code",
   "execution_count": 2,
   "metadata": {},
   "outputs": [
    {
     "name": "stdout",
     "output_type": "stream",
     "text": [
      "Hello World\n"
     ]
    }
   ],
   "source": [
    "# Basic Print Command #\n",
    "print(\"Hello World\")"
   ]
  },
  {
   "cell_type": "code",
   "execution_count": 4,
   "metadata": {},
   "outputs": [
    {
     "name": "stdout",
     "output_type": "stream",
     "text": [
      "Hello World\n",
      "Hello World\n"
     ]
    }
   ],
   "source": [
    "# Showing how quotations don't matter, as long as you have the same kind\n",
    "print(\"Hello World\")\n",
    "print('Hello World')"
   ]
  },
  {
   "cell_type": "code",
   "execution_count": 5,
   "metadata": {},
   "outputs": [
    {
     "name": "stdout",
     "output_type": "stream",
     "text": [
      "She said, 'Hello World'\n",
      "He said, \"Hello World\"\n"
     ]
    }
   ],
   "source": [
    "# Getting fancy with changing the quotations #\n",
    "print(\"She said, 'Hello World'\")\n",
    "print('He said, \"Hello World\"')"
   ]
  },
  {
   "cell_type": "code",
   "execution_count": 7,
   "metadata": {},
   "outputs": [
    {
     "ename": "SyntaxError",
     "evalue": "invalid syntax (<ipython-input-7-698e6d2f7670>, line 2)",
     "output_type": "error",
     "traceback": [
      "\u001b[0;36m  File \u001b[0;32m\"<ipython-input-7-698e6d2f7670>\"\u001b[0;36m, line \u001b[0;32m2\u001b[0m\n\u001b[0;31m    print(Hello World)\u001b[0m\n\u001b[0m                    ^\u001b[0m\n\u001b[0;31mSyntaxError\u001b[0m\u001b[0;31m:\u001b[0m invalid syntax\n"
     ]
    }
   ],
   "source": [
    "# Common Errors #\n",
    "print(Hello World)"
   ]
  },
  {
   "cell_type": "code",
   "execution_count": 8,
   "metadata": {},
   "outputs": [
    {
     "ename": "NameError",
     "evalue": "name 'prin' is not defined",
     "output_type": "error",
     "traceback": [
      "\u001b[0;31m---------------------------------------------------------------------------\u001b[0m",
      "\u001b[0;31mNameError\u001b[0m                                 Traceback (most recent call last)",
      "\u001b[0;32m<ipython-input-8-893faac5bb31>\u001b[0m in \u001b[0;36m<module>\u001b[0;34m()\u001b[0m\n\u001b[0;32m----> 1\u001b[0;31m \u001b[0mprin\u001b[0m\u001b[0;34m(\u001b[0m\u001b[0;34m\"Hello World\"\u001b[0m\u001b[0;34m)\u001b[0m\u001b[0;34m\u001b[0m\u001b[0m\n\u001b[0m",
      "\u001b[0;31mNameError\u001b[0m: name 'prin' is not defined"
     ]
    }
   ],
   "source": [
    "# More Errors #\n",
    "prin(\"Hello World\")"
   ]
  },
  {
   "cell_type": "code",
   "execution_count": 10,
   "metadata": {},
   "outputs": [
    {
     "name": "stdout",
     "output_type": "stream",
     "text": [
      "Hello\n",
      "world\n",
      "Hello\r",
      "world\n",
      "Hello\tworld\n"
     ]
    }
   ],
   "source": [
    "# Splitting a statement over two lines, by adding \"\\\" in between the words or parts you want to split\n",
    "# use \\n to split, use \\t for inserting a tab bteween the two words, and \\r to show the last word (carriage return)\n",
    "print(\"Hello\\nworld\")\n",
    "print(\"Hello\\rworld\")\n",
    "print(\"Hello\\tworld\")"
   ]
  },
  {
   "cell_type": "code",
   "execution_count": 13,
   "metadata": {},
   "outputs": [
    {
     "name": "stdout",
     "output_type": "stream",
     "text": [
      "ATGCGTA\n"
     ]
    }
   ],
   "source": [
    "# Storing strings in variables #\n",
    "my_dna = \"ATGCGTA\"\n",
    "\n",
    "# now printing the variable #\n",
    "print(my_dna)"
   ]
  },
  {
   "cell_type": "code",
   "execution_count": 14,
   "metadata": {},
   "outputs": [
    {
     "name": "stdout",
     "output_type": "stream",
     "text": [
      "GTACTA\n"
     ]
    }
   ],
   "source": [
    "my_dna = \"GTACTA\"\n",
    "print(my_dna)"
   ]
  },
  {
   "cell_type": "code",
   "execution_count": 16,
   "metadata": {},
   "outputs": [
    {
     "name": "stdout",
     "output_type": "stream",
     "text": [
      "ACTGATGC\n",
      "Hello World\n"
     ]
    }
   ],
   "source": [
    "# Concatenating, be sure to use proper syntax!! # \n",
    "upstream = \"ACTG\"\n",
    "my_dna = upstream + \"ATGC\"\n",
    "print(my_dna)\n",
    "print(\"Hello\" + \" \" + \"World\")"
   ]
  },
  {
   "cell_type": "code",
   "execution_count": 20,
   "metadata": {},
   "outputs": [
    {
     "name": "stdout",
     "output_type": "stream",
     "text": [
      "8\n"
     ]
    },
    {
     "ename": "TypeError",
     "evalue": "must be str, not int",
     "output_type": "error",
     "traceback": [
      "\u001b[0;31m---------------------------------------------------------------------------\u001b[0m",
      "\u001b[0;31mTypeError\u001b[0m                                 Traceback (most recent call last)",
      "\u001b[0;32m<ipython-input-20-d44c13a517ab>\u001b[0m in \u001b[0;36m<module>\u001b[0;34m()\u001b[0m\n\u001b[1;32m      2\u001b[0m \u001b[0mdna_length\u001b[0m \u001b[0;34m=\u001b[0m \u001b[0mlen\u001b[0m\u001b[0;34m(\u001b[0m\u001b[0mmy_dna\u001b[0m\u001b[0;34m)\u001b[0m\u001b[0;34m\u001b[0m\u001b[0m\n\u001b[1;32m      3\u001b[0m \u001b[0mprint\u001b[0m\u001b[0;34m(\u001b[0m\u001b[0mdna_length\u001b[0m\u001b[0;34m)\u001b[0m\u001b[0;34m\u001b[0m\u001b[0m\n\u001b[0;32m----> 4\u001b[0;31m \u001b[0mprint\u001b[0m\u001b[0;34m(\u001b[0m\u001b[0;34m\"the length of the DNA sequence is \"\u001b[0m \u001b[0;34m+\u001b[0m \u001b[0mdna_length\u001b[0m\u001b[0;34m)\u001b[0m \u001b[0;31m# won't work since this is an integer and a string\u001b[0m\u001b[0;34m\u001b[0m\u001b[0m\n\u001b[0m\u001b[1;32m      5\u001b[0m \u001b[0mprint\u001b[0m\u001b[0;34m(\u001b[0m\u001b[0;34m\"the length of the DNA sequence is \"\u001b[0m \u001b[0;34m+\u001b[0m \u001b[0mstr\u001b[0m\u001b[0;34m(\u001b[0m\u001b[0mdna_length\u001b[0m\u001b[0;34m)\u001b[0m\u001b[0;34m)\u001b[0m\u001b[0;34m\u001b[0m\u001b[0m\n",
      "\u001b[0;31mTypeError\u001b[0m: must be str, not int"
     ]
    }
   ],
   "source": [
    "# Finding Length of our Strings # \n",
    "dna_length = len(my_dna)\n",
    "print(dna_length)\n",
    "print(\"the length of the DNA sequence is \" + dna_length) # won't work since this is a string plus an integer "
   ]
  },
  {
   "cell_type": "code",
   "execution_count": 21,
   "metadata": {},
   "outputs": [
    {
     "name": "stdout",
     "output_type": "stream",
     "text": [
      "the length of the DNA sequence is 8\n"
     ]
    }
   ],
   "source": [
    "print(\"the length of the DNA sequence is \" + str(dna_length))"
   ]
  },
  {
   "cell_type": "code",
   "execution_count": 22,
   "metadata": {},
   "outputs": [
    {
     "name": "stdout",
     "output_type": "stream",
     "text": [
      "atgc\n"
     ]
    }
   ],
   "source": [
    "# Changing Case #\n",
    "my_dna = \"ATGC\"\n",
    "# Lower case #\n",
    "print(my_dna.lower())"
   ]
  },
  {
   "cell_type": "code",
   "execution_count": 25,
   "metadata": {},
   "outputs": [
    {
     "name": "stdout",
     "output_type": "stream",
     "text": [
      "before: ATGC\n",
      "after: ATGC\n"
     ]
    },
    {
     "ename": "AttributeError",
     "evalue": "'int' object has no attribute 'lower'",
     "output_type": "error",
     "traceback": [
      "\u001b[0;31m---------------------------------------------------------------------------\u001b[0m",
      "\u001b[0;31mAttributeError\u001b[0m                            Traceback (most recent call last)",
      "\u001b[0;32m<ipython-input-25-fd74f776960d>\u001b[0m in \u001b[0;36m<module>\u001b[0;34m()\u001b[0m\n\u001b[1;32m      5\u001b[0m \u001b[0;31m# Can't lowercase a number, will return an error message #\u001b[0m\u001b[0;34m\u001b[0m\u001b[0;34m\u001b[0m\u001b[0m\n\u001b[1;32m      6\u001b[0m \u001b[0mmy_number\u001b[0m \u001b[0;34m=\u001b[0m \u001b[0mlen\u001b[0m\u001b[0;34m(\u001b[0m\u001b[0;34m\"ATGC\"\u001b[0m\u001b[0;34m)\u001b[0m\u001b[0;34m\u001b[0m\u001b[0m\n\u001b[0;32m----> 7\u001b[0;31m \u001b[0mprint\u001b[0m\u001b[0;34m(\u001b[0m\u001b[0mmy_number\u001b[0m\u001b[0;34m.\u001b[0m\u001b[0mlower\u001b[0m\u001b[0;34m)\u001b[0m\u001b[0;34m\u001b[0m\u001b[0m\n\u001b[0m",
      "\u001b[0;31mAttributeError\u001b[0m: 'int' object has no attribute 'lower'"
     ]
    }
   ],
   "source": [
    "print(\"before: \" + my_dna)\n",
    "lowercase_dna = my_dna.lower()\n",
    "print(\"after: \" + my_dna)\n",
    "\n",
    "# Can't lowercase a number, will return an error message #\n",
    "my_number = len(\"ATGC\")\n",
    "print(my_number.lower)"
   ]
  },
  {
   "cell_type": "code",
   "execution_count": 26,
   "metadata": {},
   "outputs": [
    {
     "name": "stdout",
     "output_type": "stream",
     "text": [
      "ylspadktny\n",
      "ymtpadktnv\n",
      "vlspadktnv\n"
     ]
    }
   ],
   "source": [
    "# Replacing parts of a String #\n",
    "protien = \"vlspadktnv\"\n",
    "# replacing one character, you can also replace more #\n",
    "print(protien.replace(\"v\", \"y\"))\n",
    "print(protien.replace(\"vls\", \"ymt\"))\n",
    "print(protien) # these changes won't change the original variable unless you specify with .replace"
   ]
  },
  {
   "cell_type": "code",
   "execution_count": 28,
   "metadata": {},
   "outputs": [
    {
     "name": "stdout",
     "output_type": "stream",
     "text": [
      "pa\n",
      "vlspad\n",
      "vlspadktnv\n"
     ]
    }
   ],
   "source": [
    "# Extracting part of a string #\n",
    "print(protien[3:5]) # prints just the 3rd through the 5th parts of the string\n",
    "print(protien[0:6]) # strings start at 0, not 1\n",
    "print(protien[0:60]) # will prin up to 60 characters, ends if there are less than 60"
   ]
  },
  {
   "cell_type": "code",
   "execution_count": 30,
   "metadata": {},
   "outputs": [
    {
     "name": "stdout",
     "output_type": "stream",
     "text": [
      "valines: 2\n",
      "lsp: 1\n",
      "tryptophans: 0\n",
      "3\n",
      "-1\n"
     ]
    }
   ],
   "source": [
    "# Counting & Finding substrings #\n",
    "protien = \"vlspadktnv\"\n",
    "# counting the amino acid residues #\n",
    "valine_count = protien.count('v')\n",
    "lsp_count = protien.count('lsp')\n",
    "tryptophan_count = protien.count('w')\n",
    "\n",
    "# printing the values of the counts #\n",
    "print('valines: ' + str(valine_count))\n",
    "print('lsp: ' + str(lsp_count))\n",
    "print('tryptophans: ' + str(tryptophan_count))\n",
    "\n",
    "# printing a substring that doesn't exist returns a '-1'\n",
    "print(protien.find('p'))\n",
    "print(protien.find('w'))"
   ]
  },
  {
   "cell_type": "code",
   "execution_count": 31,
   "metadata": {
    "collapsed": true
   },
   "outputs": [],
   "source": [
    "## CHAPTER 2 END OF CHAPTER EXERCISES ## "
   ]
  },
  {
   "cell_type": "code",
   "execution_count": 39,
   "metadata": {},
   "outputs": [
    {
     "name": "stdout",
     "output_type": "stream",
     "text": [
      "length : 35\n",
      "length : 9\n",
      "length : 10\n",
      "AT content is 9.285714285714286\n",
      "AT content is 0.5428571428571428\n"
     ]
    }
   ],
   "source": [
    "# Calculating AT content #\n",
    "\n",
    "#Gets out initial values\n",
    "my_dna = \"ACGTGCTCTACGCATCAGCTCATCGTATATATGAC\"\n",
    "length = len(my_dna)\n",
    "a_count = my_dna.count('A')\n",
    "t_count = my_dna.count('T')\n",
    "\n",
    "#Now time for some math\n",
    "print(\"length : \" + str(length))\n",
    "print(\"length : \" + str(a_count))\n",
    "print(\"length : \" + str(t_count))\n",
    "at_content = a_count + t_count / length\n",
    "print(\"AT content is \" + str(at_content)) # gives weird value, let's fix this\n",
    "\n",
    "# fixed version\n",
    "at_content = (a_count + t_count) / length\n",
    "print(\"AT content is \" + str(at_content))"
   ]
  },
  {
   "cell_type": "code",
   "execution_count": 43,
   "metadata": {},
   "outputs": [
    {
     "name": "stdout",
     "output_type": "stream",
     "text": [
      "TCGTGCTCTTCGCTTCTGCTCTTCGTTTTTTTGTC\n",
      "ACGAGCACAACGCAACAGCACAACGAAAAAAAGAC\n",
      "AGGTGGTGTAGGGATGAGGTGATGGTATATATGAG\n",
      "ACCTCCTCTACCCATCACCTCATCCTATATATCAC\n",
      "HCGTGCTCTHCGCHTCHGCTCHTCGTHTHTHTGHC\n",
      "HCGJGCJCJHCGCHJCHGCJCHJCGJHJHJHJGHC\n",
      "HHGJGHJHJHHGHHJHHGHJHHJHGJHJHJHJGHH\n",
      "HHLJLHJHJHHLHHJHHLHJHHJHLJHJHJHJLHH\n"
     ]
    }
   ],
   "source": [
    "# Complementing DNA #\n",
    "my_dna = \"ACGTGCTCTACGCATCAGCTCATCGTATATATGAC\"\n",
    "# replacing the various nucleotides witht their counterparts \n",
    "replacement1 = my_dna.replace( 'A' , 'T')\n",
    "replacement2 = my_dna.replace( 'T' , 'A')\n",
    "replacement3 = my_dna.replace( 'C' , 'G')\n",
    "replacement4 = my_dna.replace( 'G' , 'C')\n",
    "print(replacement1)\n",
    "print(replacement2)\n",
    "print(replacement3)\n",
    "print(replacement4) # so these all replaced what was done before them, not based off the original \n",
    "\n",
    "# fixing this problem\n",
    "replacement1 = my_dna.replace( 'A' , 'H')\n",
    "replacement2 = replacement1.replace( 'T' , 'J')\n",
    "replacement3 = replacement2.replace( 'C' , 'H')\n",
    "replacement4 = replacement3.replace( 'G' , 'L')\n",
    "print(replacement1)\n",
    "print(replacement2)\n",
    "print(replacement3)\n",
    "print(replacement4)"
   ]
  },
  {
   "cell_type": "code",
   "execution_count": 44,
   "metadata": {},
   "outputs": [
    {
     "name": "stdout",
     "output_type": "stream",
     "text": [
      "lenght of fragment one is 20\n",
      "lenght of fragment two is 19\n"
     ]
    }
   ],
   "source": [
    "# Restriction fragment lengths # \n",
    "my_dna = \"AGCTCCTACGGATCGATACGAATTCTCGATCGAATTCAT\"\n",
    "frag1_length = my_dna.find(\"GAATTC\") + 1\n",
    "frag2_length = len(my_dna) - frag1_length\n",
    "print(\"lenght of fragment one is \" + str(frag1_length))\n",
    "print(\"lenght of fragment two is \" + str(frag2_length))"
   ]
  },
  {
   "cell_type": "code",
   "execution_count": 45,
   "metadata": {},
   "outputs": [
    {
     "name": "stdout",
     "output_type": "stream",
     "text": [
      "ATCGTAGCTACGTAGCTACGCATCGACATCAGCATACGCATCTCGACAGCAGCGACAGACGACGAGTCGCAGCGACTCGACTACGACTACAGACGACTACTACTATTACATCATCACAGCAGCGTCGCGCTCAGACACGCTAGACG\n"
     ]
    }
   ],
   "source": [
    "# Splicing out introns, part one #\n",
    "my_dna = \"ATCGTAGCTACGTAGCTACGCATCGACATCAGCATACGCATCTCGACAGCAGCGACAGACGACAACGGGGTCGCATCAGACTGACGACTACGAGTCGCAGCGACTCGACTACGACTACAGACGACTACTACTATTACATCATCACAGCAGCGTCGCGCTCAGACACGCTAGACG\"\n",
    "exon1 = my_dna[0:62]\n",
    "exon2 = my_dna[90:1000]\n",
    "print(exon1 + exon2)"
   ]
  },
  {
   "cell_type": "code",
   "execution_count": 48,
   "metadata": {},
   "outputs": [
    {
     "name": "stdout",
     "output_type": "stream",
     "text": [
      "ATCGTAGCTACGTAGCTACGCATCGACATCAGCATACGCATCTCGACAGCAGCGACAGACGACGAGTCGCAGCGACTCGACTACGACTACAGACGACTACTACTATTACATCATCACAGCAGCGTCGCGCTCAGACACGCTAGACG\n",
      "83.9080459770115\n"
     ]
    }
   ],
   "source": [
    "# Splicing out introns, part two #\n",
    "my_dna = \"ATCGTAGCTACGTAGCTACGCATCGACATCAGCATACGCATCTCGACAGCAGCGACAGACGACAACGGGGTCGCATCAGACTGACGACTACGAGTCGCAGCGACTCGACTACGACTACAGACGACTACTACTATTACATCATCACAGCAGCGTCGCGCTCAGACACGCTAGACG\"\n",
    "exon1 = my_dna[0:62]\n",
    "exon2 = my_dna[90:1000]\n",
    "print(exon1 + exon2)\n",
    "\n",
    "coding_length = len(exon1 + exon2)\n",
    "total_length = len(my_dna)\n",
    "print(100 * coding_length / total_length)"
   ]
  },
  {
   "cell_type": "code",
   "execution_count": 50,
   "metadata": {},
   "outputs": [
    {
     "name": "stdout",
     "output_type": "stream",
     "text": [
      "ATCGTAGCTACGTAGCTACGCATCGACATCAGCATACGCATCTCGACAGCAGCGACAGACGAcaacggggtcgcatcagactgacgactaCGAGTCGCAGCGACTCGACTACGACTACAGACGACTACTACTATTACATCATCACAGCAGCGTCGCGCTCAGACACGCTAGACG\n",
      "caacggggtcgcatcagactgacgacta\n"
     ]
    }
   ],
   "source": [
    "# Splicing out introns, part three #\n",
    "my_dna = \"ATCGTAGCTACGTAGCTACGCATCGACATCAGCATACGCATCTCGACAGCAGCGACAGACGACAACGGGGTCGCATCAGACTGACGACTACGAGTCGCAGCGACTCGACTACGACTACAGACGACTACTACTATTACATCATCACAGCAGCGTCGCGCTCAGACACGCTAGACG\"\n",
    "exon1 = my_dna[0:62]\n",
    "intron = my_dna[62:90]\n",
    "exon2 = my_dna[90:1000]\n",
    "print(exon1 + intron.lower() + exon2)\n",
    "\n",
    "# can also do this for the intron\n",
    "intron = my_dna[62:90].lower()\n",
    "print(intron)"
   ]
  },
  {
   "cell_type": "code",
   "execution_count": null,
   "metadata": {
    "collapsed": true
   },
   "outputs": [],
   "source": []
  }
 ],
 "metadata": {
  "kernelspec": {
   "display_name": "Python 3",
   "language": "python",
   "name": "python3"
  },
  "language_info": {
   "codemirror_mode": {
    "name": "ipython",
    "version": 3
   },
   "file_extension": ".py",
   "mimetype": "text/x-python",
   "name": "python",
   "nbconvert_exporter": "python",
   "pygments_lexer": "ipython3",
   "version": "3.6.1"
  }
 },
 "nbformat": 4,
 "nbformat_minor": 2
}
