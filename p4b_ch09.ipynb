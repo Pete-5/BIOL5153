{
 "cells": [
  {
   "cell_type": "code",
   "execution_count": 1,
   "metadata": {
    "collapsed": true
   },
   "outputs": [],
   "source": [
    "## Chapter 9 in Chapter Exercises ## "
   ]
  },
  {
   "cell_type": "code",
   "execution_count": 2,
   "metadata": {},
   "outputs": [
    {
     "ename": "FileNotFoundError",
     "evalue": "[Errno 2] No such file or directory: 'old.txt' -> 'new.txt'",
     "output_type": "error",
     "traceback": [
      "\u001b[0;31m---------------------------------------------------------------------------\u001b[0m",
      "\u001b[0;31mFileNotFoundError\u001b[0m                         Traceback (most recent call last)",
      "\u001b[0;32m<ipython-input-2-87e1fac2bc71>\u001b[0m in \u001b[0;36m<module>\u001b[0;34m()\u001b[0m\n\u001b[1;32m      1\u001b[0m \u001b[0;31m# Basic file manipulation #\u001b[0m\u001b[0;34m\u001b[0m\u001b[0;34m\u001b[0m\u001b[0m\n\u001b[1;32m      2\u001b[0m \u001b[0;32mimport\u001b[0m \u001b[0mos\u001b[0m\u001b[0;34m\u001b[0m\u001b[0m\n\u001b[0;32m----> 3\u001b[0;31m \u001b[0mos\u001b[0m\u001b[0;34m.\u001b[0m\u001b[0mrename\u001b[0m\u001b[0;34m(\u001b[0m\u001b[0;34m\"old.txt\"\u001b[0m\u001b[0;34m,\u001b[0m \u001b[0;34m\"new.txt\"\u001b[0m\u001b[0;34m)\u001b[0m\u001b[0;34m\u001b[0m\u001b[0m\n\u001b[0m",
      "\u001b[0;31mFileNotFoundError\u001b[0m: [Errno 2] No such file or directory: 'old.txt' -> 'new.txt'"
     ]
    }
   ],
   "source": [
    "# Basic file manipulation #\n",
    "import os\n",
    "os.rename(\"old.txt\", \"new.txt\") # renaming old.txt as new.txt\n",
    "\n",
    "# rename function also works on renaming folders as well as files\n",
    "os.mkdir() # fill in the parantheses with \"/home/peter/Desktop\"\n",
    "\n",
    "# I get an error on this since I don't have access to this file type that is normally in the book"
   ]
  },
  {
   "cell_type": "code",
   "execution_count": null,
   "metadata": {
    "collapsed": true
   },
   "outputs": [],
   "source": [
    "# Copying a file or folder #\n",
    "\n",
    "# file\n",
    "shutil.copy(\"/home/peter/original.txt\", \"/home/peter/copy.txt\")\n",
    "\n",
    "# folder\n",
    "shutil.copytree(\"/home/peter/original_folder\", \"/home/peter/copy_folder\")\n"
   ]
  },
  {
   "cell_type": "code",
   "execution_count": null,
   "metadata": {
    "collapsed": true
   },
   "outputs": [],
   "source": [
    "# Testing if a file exists #\n",
    "\n",
    "if os.path.exists(\"/home/peter/email.txt\"):\n",
    "    print(\"You have mail!\")"
   ]
  },
  {
   "cell_type": "code",
   "execution_count": null,
   "metadata": {
    "collapsed": true
   },
   "outputs": [],
   "source": [
    "# Deleting files and folders #\n",
    "\n",
    "# delete a single file\n",
    "os.remove(\"/home/peter/unwanted_file.txt\")\n",
    "\n",
    "# delete a empty folder\n",
    "os.rmdir(\"/home/peter/empty\")\n",
    "\n",
    "# delete a folder and ALL of its files\n",
    "shutil.rmtree(\"home/peter/full\")"
   ]
  },
  {
   "cell_type": "code",
   "execution_count": null,
   "metadata": {
    "collapsed": true
   },
   "outputs": [],
   "source": [
    "# Listing folder contents #\n",
    "\n",
    "# list of contents of current working directory\n",
    "for file_name in os.listdir(\".\"):\n",
    "    print(\"one file name is \" + file_name)\n",
    "\n",
    "# list of contents of a different folder\n",
    "for file_name in os.listdir(\"/home/peter\"):\n",
    "    print(\"one file name is \" + file_name)"
   ]
  },
  {
   "cell_type": "code",
   "execution_count": null,
   "metadata": {
    "collapsed": true
   },
   "outputs": [],
   "source": [
    "# Running external programs #\n",
    "\n",
    "import subprocess\n",
    "subprocess.call('/bin/date +%B', shell=True) # the +%B prints the month to the command line"
   ]
  },
  {
   "cell_type": "code",
   "execution_count": null,
   "metadata": {
    "collapsed": true
   },
   "outputs": [],
   "source": [
    "# Saving program output #\n",
    "\n",
    "current_month = subprocess.check_output('/bin/date +%B', shell=True) "
   ]
  },
  {
   "cell_type": "code",
   "execution_count": 3,
   "metadata": {
    "collapsed": true
   },
   "outputs": [],
   "source": [
    "## End of Chapter 9 Exercises ##"
   ]
  },
  {
   "cell_type": "code",
   "execution_count": 5,
   "metadata": {
    "collapsed": true
   },
   "outputs": [],
   "source": [
    "# Binning DNA sequences #\n",
    "\n",
    "import os \n",
    "\n",
    "# create a new folder for each bin\n",
    "for bin_lower in range(100,1000,100):\n",
    "    bin_upper = bin_lower + 99\n",
    "    bin_folder_name = str(bin_lower) + \"_\" + str(bin_upper)\n",
    "    os.mkdir(bin_folder_name)\n",
    "\n",
    "# create a variable to hold the sequence number\n",
    "seq_number = 1\n",
    "\n",
    "# process all the files that end in .dna\n",
    "for file_name in os.lsitfir(\".\"):\n",
    "    if file_name.ednswith(\".dna\"):\n",
    "        print(\"reading sequences from \" + file_name)\n",
    "        dna_file = open(file_name)\n",
    "        \n",
    "        # for each line, calculate the sequence length\n",
    "        for line in dna.file:\n",
    "            dna = line.rstrip(\"\\n\")\n",
    "            legnth = len(dna)\n",
    "            print(\"sequence length is \" + str(length))\n",
    "            \n",
    "            # figure out whihc bin the sequence belongs in\n",
    "            for bin_lower in range(100,1000,100):\n",
    "                bin_upper = bin_lower + 99\n",
    "                if length >= bin_lower and length < bin_upper:\n",
    "                    \n",
    "                    # once we know the correct bin, write out the sequence\n",
    "                    print(\"bin is \" + str(bin_lower) + \" to \" + str(bin_upper))\n",
    "                    bin_folder_name = str(bin_lower) + \"_\" + str(bin_upper)\n",
    "                    output_path = bin_folder_name + '/' + str(seq_number) + '.dna'\n",
    "                    output = open(output, \"w\")\n",
    "                    output.write(dna)\n",
    "                    output.close()\n",
    "                    \n",
    "                    # increment the sequence number\n",
    "                    seq_number = seq_number+1 \n"
   ]
  },
  {
   "cell_type": "code",
   "execution_count": null,
   "metadata": {
    "collapsed": true
   },
   "outputs": [],
   "source": [
    "# Kmer counting #\n",
    "\n",
    "import os \n",
    "import sys\n",
    "\n",
    "# convert command line arguments to variables\n",
    "kmer_size = int(sys.argv[1])\n",
    "count_cutoff = int(sys.argv[2])\n",
    "\n",
    "# define the function to split dna\n",
    "def split_dna(dna, hmersize):\n",
    "    kmers = []\n",
    "    for start in range(0,len(dna)-(kmer_size-1),1):\n",
    "        kmer - dna[start:start+kmer_size]\n",
    "        kmers.append(kmer)\n",
    "    return kmers\n",
    "\n",
    "# create an empty dictionary to hold counts \n",
    "kmer_counts = {}\n",
    "\n",
    "# process each file witht he right name\n",
    "for file_name in os.listdir(\".\"):\n",
    "    if file_name.endswith(\".dna\"):\n",
    "        dna_file = open(file_name)\n",
    "        \n",
    "        # process each DNA sequence ina file\n",
    "        for line in dna_file:\n",
    "            dna = line.rstrip(\"\\n\")\n",
    "            \n",
    "            # increase the count for each k-mer that we find\n",
    "            for kmer in split_dna(dna, kmer_size):\n",
    "                current_count = kmer_counts.get(kmer, 0)\n",
    "                new_count = current_count + 1\n",
    "                kmer_counts[kmer] = new_count\n",
    "                \n",
    "# print k=mers whose counts are above the cutoff \n",
    "for kmer, count in kmer_counts.items():\n",
    "    if count > count_cutoff:\n",
    "        print(kmer + \" : \" + str(count))"
   ]
  }
 ],
 "metadata": {
  "kernelspec": {
   "display_name": "Python 3",
   "language": "python",
   "name": "python3"
  },
  "language_info": {
   "codemirror_mode": {
    "name": "ipython",
    "version": 3
   },
   "file_extension": ".py",
   "mimetype": "text/x-python",
   "name": "python",
   "nbconvert_exporter": "python",
   "pygments_lexer": "ipython3",
   "version": "3.6.1"
  }
 },
 "nbformat": 4,
 "nbformat_minor": 2
}
